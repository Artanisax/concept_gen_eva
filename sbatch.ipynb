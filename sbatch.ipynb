{
 "cells": [
  {
   "cell_type": "code",
   "execution_count": 19,
   "metadata": {},
   "outputs": [],
   "source": [
    "import os"
   ]
  },
  {
   "cell_type": "code",
   "execution_count": 20,
   "metadata": {},
   "outputs": [],
   "source": [
    "template = \"\"\"#!/bin/bash\n",
    "\n",
    "########## SBATCH Lines for Resource Request ##########\n",
    "\n",
    "#SBATCH --nodes=1                   # number of different nodes - could be an exact number or a range of nodes (same as -N)\n",
    "#SBATCH --mem-per-cpu=8G            # memory required per allocated CPU (or core) - amount of memory (in bytes)\n",
    "#SBATCH --job-name concept_gen_eva  # you can give your job a name for easier identification (same as -J)\n",
    "#SBATCH --time=3:59:00              # limit of wall clock time - how long the job will run (same as -t)\n",
    "#SBATCH --cpus-per-task=2           # number of CPUs (or cores) per task (same as -c)\n",
    "#SBATCH --ntasks=1                  # number of tasks - how many tasks (nodes) that you require (same as -n)\n",
    "#SBATCH --gres=gpu:v100s:1\n",
    "#SBATCH -o /mnt/scratch/chenkan4/concept_gen_eva/logfile/sld/%j.log\n",
    "#SBATCH -e /mnt/scratch/chenkan4/concept_gen_eva/logfile/sld/%j.err\n",
    "\n",
    "########## Command Lines for Job Running ##########\n",
    "\n",
    "module load Conda/3\n",
    "conda activate sld\n",
    "\n",
    "ROOT_PATH=\"/mnt/scratch/chenkan4/concept_gen_eva/src/methods/safe-latent-diffusion\"\n",
    "cd ${ROOT_PATH}\n",
    "\n",
    "JOB_INFO=\"SLD_GEN\"\n",
    "\n",
    "DATASET=\"TOKEN_DATASET\"\n",
    "NUM_IMGS=TOKEN_NUM_IMGS\n",
    "FROM_CASE=TOKEN_FROM_CASE\n",
    "NUM_PROMPTS=TOKEN_NUM_PROMPTS\n",
    "\n",
    "COMMAND=\"python infer.py --dataset $DATASET --num_imgs $NUM_IMGS --from_case $FROM_CASE --num_prompts $NUM_PROMPTS\"\n",
    "\n",
    "#print the information of a job into one file\n",
    "date >>${ROOT_PATH}/submit_history.log\n",
    "echo $SLURM_JOB_ID >>${ROOT_PATH}/submit_history.log\n",
    "echo $JOB_INFO >>${ROOT_PATH}/submit_history.log\n",
    "echo $COMMAND >>${ROOT_PATH}/submit_history.log\n",
    "\n",
    "echo \"---------------------------------------------------------------\" >>${ROOT_PATH}/submit_history.log\n",
    "\n",
    "echo $JOB_INFO\n",
    "\n",
    "echo $COMMAND\n",
    "$COMMAND 1>${ROOT_PATH}/logfile/${SLURM_JOB_ID}_1.log 2>${ROOT_PATH}/logfile/${SLURM_JOB_ID}.err &\n",
    "\n",
    "wait\n",
    "\n",
    "echo -e \"JobID:$SLURM_JOB_ID \n",
    " JOB_INFO: ${JOB_INFO} \n",
    " Python_command: \n",
    " ${COMMAND}\" | mail -s \"[Done] ${SLURM_JOB_ID}\" harrychen.kr@foxmail.com\n",
    "\n",
    "date >>${ROOT_PATH}/finish_history.log\n",
    "echo $SLURM_JOB_ID >>${ROOT_PATH}/finish_history.log\n",
    "echo $JOB_INFO >>${ROOT_PATH}/finish_history.log\n",
    "echo $COMMAND >>${ROOT_PATH}/finish_history.log\n",
    "\n",
    "echo -e \"---------------------------------------------------------------\" >>${ROOT_PATH}/finish_history.log\n",
    "\n",
    "scontrol show job $SLURM_JOB_ID     ### write job information to SLURM output file.\n",
    "\n",
    "\"\"\""
   ]
  },
  {
   "cell_type": "code",
   "execution_count": 21,
   "metadata": {},
   "outputs": [
    {
     "name": "stdout",
     "output_type": "stream",
     "text": [
      "Submitted batch job 35134955\n",
      "Submitted batch job 35134956\n",
      "Submitted batch job 35134957\n",
      "Submitted batch job 35134958\n",
      "Submitted batch job 35134959\n",
      "Submitted batch job 35134961\n",
      "Submitted batch job 35134962\n",
      "Submitted batch job 35134963\n",
      "Submitted batch job 35134964\n",
      "Submitted batch job 35134967\n"
     ]
    }
   ],
   "source": [
    "dataset = \"NSFW\"\n",
    "num_prompts = 200\n",
    "num_imgs = 5\n",
    "\n",
    "for from_case in range(0, 2000, 200):\n",
    "    script_path = f'scripts/{dataset}/{from_case}.sb'\n",
    "    sbatch = template.replace('TOKEN_DATASET', dataset) \\\n",
    "                .replace('TOKEN_NUM_IMGS', str(num_imgs)) \\\n",
    "                .replace('TOKEN_FROM_CASE', str(from_case)) \\\n",
    "                .replace('TOKEN_NUM_PROMPTS', str(num_prompts))\n",
    "    \n",
    "    with open(script_path, 'w') as file:\n",
    "        file.write(sbatch)\n",
    "    \n",
    "    os.system(f'sbatch {script_path}')"
   ]
  }
 ],
 "metadata": {
  "kernelspec": {
   "display_name": "cge",
   "language": "python",
   "name": "python3"
  },
  "language_info": {
   "codemirror_mode": {
    "name": "ipython",
    "version": 3
   },
   "file_extension": ".py",
   "mimetype": "text/x-python",
   "name": "python",
   "nbconvert_exporter": "python",
   "pygments_lexer": "ipython3",
   "version": "3.10.14"
  }
 },
 "nbformat": 4,
 "nbformat_minor": 2
}
