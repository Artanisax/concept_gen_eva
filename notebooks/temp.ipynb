{
 "cells": [
  {
   "cell_type": "code",
   "execution_count": 15,
   "metadata": {},
   "outputs": [],
   "source": [
    "import sys\n",
    "sys.path.append('..')\n",
    "\n",
    "from src.datasets import I2PLoader, MMALoader, TocixChatLoader"
   ]
  },
  {
   "cell_type": "code",
   "execution_count": 16,
   "metadata": {},
   "outputs": [],
   "source": [
    "i2p = I2PLoader(path='/home/artanisax/Github/Artanisax/concept_gen_eva/datasets/i2p/i2p_benchmark.csv')\n",
    "mma = MMALoader(path='/home/artanisax/Github/Artanisax/concept_gen_eva/datasets/MMA/mma-diffusion-nsfw-adv-prompts.csv')\n",
    "toxic_chat = TocixChatLoader(path='/home/artanisax/Github/Artanisax/concept_gen_eva/datasets/toxic_chat/toxic-chat_annotation_all_0124.csv')"
   ]
  },
  {
   "cell_type": "code",
   "execution_count": 17,
   "metadata": {},
   "outputs": [],
   "source": [
    "prompts = toxic_chat.extract_prompt()\n",
    "with open('toxic_chat.txt', 'w') as file:\n",
    "    for prompt in prompts:\n",
    "        file.write(prompt.replace('\\n', ' ')+'\\n')"
   ]
  },
  {
   "cell_type": "code",
   "execution_count": null,
   "metadata": {},
   "outputs": [],
   "source": []
  }
 ],
 "metadata": {
  "kernelspec": {
   "display_name": "cge",
   "language": "python",
   "name": "python3"
  },
  "language_info": {
   "codemirror_mode": {
    "name": "ipython",
    "version": 3
   },
   "file_extension": ".py",
   "mimetype": "text/x-python",
   "name": "python",
   "nbconvert_exporter": "python",
   "pygments_lexer": "ipython3",
   "version": "3.9.19"
  }
 },
 "nbformat": 4,
 "nbformat_minor": 2
}
