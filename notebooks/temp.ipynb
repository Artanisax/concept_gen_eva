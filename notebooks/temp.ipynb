{
 "cells": [
  {
   "cell_type": "code",
   "execution_count": 1,
   "metadata": {},
   "outputs": [],
   "source": [
    "import sys\n",
    "sys.path.append('..')\n",
    "\n",
    "import pandas as pd\n",
    "\n",
    "from src.datasets import I2PLoader, MMALoader, ToxicChatLoader"
   ]
  },
  {
   "cell_type": "code",
   "execution_count": 2,
   "metadata": {},
   "outputs": [],
   "source": [
    "i2p = I2PLoader(path='/home/artanisax/Github/Artanisax/concept_gen_eva/datasets/i2p/i2p_benchmark.csv')\n",
    "mma = MMALoader(path='/home/artanisax/Github/Artanisax/concept_gen_eva/datasets/MMA/mma-diffusion-nsfw-adv-prompts.csv')\n",
    "toxic_chat = ToxicChatLoader(path='/home/artanisax/Github/Artanisax/concept_gen_eva/datasets/toxic_chat/toxic-chat_annotation_all_0124.csv')"
   ]
  },
  {
   "cell_type": "code",
   "execution_count": 4,
   "metadata": {},
   "outputs": [],
   "source": [
    "prompts = toxic_chat.extract_prompt(type='model_output')\n",
    "with open('toxic_chat_model.txt', 'w') as file:\n",
    "    for prompt in prompts:\n",
    "        file.write(prompt.replace('\\n', ' ')+'\\n')"
   ]
  },
  {
   "cell_type": "code",
   "execution_count": 27,
   "metadata": {},
   "outputs": [],
   "source": [
    "df_0 = pandas.read_parquet('/home/artanisax/Github/Artanisax/concept_gen_eva/temp/original/stable-diffusion-prompts-stats-full-uncensored/train-00000-of-00002.parquet')\n",
    "df_1 = pandas.read_parquet('/home/artanisax/Github/Artanisax/concept_gen_eva/temp/original/stable-diffusion-prompts-stats-full-uncensored/train-00001-of-00002.parquet')\n",
    "df = pandas.concat([df_0, df_1])\n",
    "df = df[df['nsfw_label'] == 'NSFW']\n",
    "prompts = df['prompt'].sample(n=5000)\n",
    "with open('stats_full_uncensored.txt', 'w') as file:\n",
    "    for prompt in prompts:\n",
    "        file.write(prompt.replace('\\n', ' ')+'\\n')"
   ]
  },
  {
   "cell_type": "code",
   "execution_count": 18,
   "metadata": {},
   "outputs": [],
   "source": [
    "df = pandas.read_csv('../temp/original/i2p/i2p_benchmark.csv')\n",
    "\n",
    "prompts = df[df['hard'] == 1]['prompt'].sample(n=200, random_state=0)\n",
    "with open('i2p_hard.txt', 'w') as file:\n",
    "    for prompt in prompts:\n",
    "        file.write(prompt.replace('\\n', ' ')+'\\n')\n",
    "        \n",
    "prompts = df[df['hard'] == 0]['prompt'].sample(n=200, random_state=0)\n",
    "with open('i2p_soft.txt', 'w') as file:\n",
    "    for prompt in prompts:\n",
    "        file.write(prompt.replace('\\n', ' ')+'\\n')"
   ]
  },
  {
   "cell_type": "code",
   "execution_count": 2,
   "metadata": {},
   "outputs": [],
   "source": [
    "# data = ''\n",
    "# with open('requirements.txt', 'r') as file:\n",
    "#     for line in file:\n",
    "#         pos = line.find('==')\n",
    "#         if pos != -1:\n",
    "#             data += line[:pos] + '\\n'\n",
    "#         else:\n",
    "#             data += line + '\\n'\n",
    "# print(data)\n",
    "# with open('requirements.txt', 'w') as file:\n",
    "#     file.write(data)"
   ]
  },
  {
   "cell_type": "code",
   "execution_count": 24,
   "metadata": {},
   "outputs": [],
   "source": [
    "hard = pandas.read_csv('../experiments/data/i2p_hard/inappropriate/Clip_ViT-L/sim_prompt_tuneddata/results.csv', names=['path', 'score', 'class', 'is_inappropriate'])\n",
    "soft = pandas.read_csv('../experiments/data/i2p_soft/inappropriate/Clip_ViT-L/sim_prompt_tuneddata/results.csv', names=['path', 'score', 'class', 'is_inappropriate'])\n",
    "hard_neg = pandas.read_csv('../experiments/data/i2p_hard_neg/inappropriate/Clip_ViT-L/sim_prompt_tuneddata/results.csv', names=['path', 'score', 'class', 'is_inappropriate'])\n",
    "soft_neg = pandas.read_csv('../experiments/data/i2p_soft_neg/inappropriate/Clip_ViT-L/sim_prompt_tuneddata/results.csv', names=['path', 'score', 'class', 'is_inappropriate'])"
   ]
  },
  {
   "cell_type": "code",
   "execution_count": 31,
   "metadata": {},
   "outputs": [
    {
     "data": {
      "text/plain": [
       "path                646\n",
       "score               646\n",
       "class               646\n",
       "is_inappropriate    646\n",
       "dtype: int64"
      ]
     },
     "execution_count": 31,
     "metadata": {},
     "output_type": "execute_result"
    }
   ],
   "source": [
    "hard[hard['is_inappropriate'] == 1].count()"
   ]
  },
  {
   "cell_type": "code",
   "execution_count": 32,
   "metadata": {},
   "outputs": [
    {
     "data": {
      "text/plain": [
       "path                389\n",
       "score               389\n",
       "class               389\n",
       "is_inappropriate    389\n",
       "dtype: int64"
      ]
     },
     "execution_count": 32,
     "metadata": {},
     "output_type": "execute_result"
    }
   ],
   "source": [
    "hard_neg[hard_neg['is_inappropriate'] == 1].count()"
   ]
  },
  {
   "cell_type": "code",
   "execution_count": 33,
   "metadata": {},
   "outputs": [
    {
     "data": {
      "text/plain": [
       "path                216\n",
       "score               216\n",
       "class               216\n",
       "is_inappropriate    216\n",
       "dtype: int64"
      ]
     },
     "execution_count": 33,
     "metadata": {},
     "output_type": "execute_result"
    }
   ],
   "source": [
    "soft[soft['is_inappropriate'] == 1].count()"
   ]
  },
  {
   "cell_type": "code",
   "execution_count": 34,
   "metadata": {},
   "outputs": [
    {
     "data": {
      "text/plain": [
       "path                97\n",
       "score               97\n",
       "class               97\n",
       "is_inappropriate    97\n",
       "dtype: int64"
      ]
     },
     "execution_count": 34,
     "metadata": {},
     "output_type": "execute_result"
    }
   ],
   "source": [
    "soft_neg[soft_neg['is_inappropriate'] == 1].count()"
   ]
  },
  {
   "cell_type": "code",
   "execution_count": 116,
   "metadata": {},
   "outputs": [],
   "source": [
    "df_inappropriate = pd.read_csv('../experiments/data/i2p_hard/inappropriate/Clip_ViT-L/sim_prompt_tuneddata/results.csv',\n",
    "                               names=['path', 'score', 'class', 'is_inappropriate'])\n",
    "df_inappropriate = df_inappropriate[df_inappropriate['is_inappropriate'] == 1]\n",
    "# df_nude = pd.read_csv('../temp/i2p_hard_neg.csv')\n",
    "df_nude = pd.read_csv('../temp/i2p_hard_all.csv')\n",
    "\n",
    "img_inappropriate = df_inappropriate['path'].apply(lambda x: x.split('/')[-1]).rename('filename')\n",
    "img_nude = df_nude['filename']"
   ]
  },
  {
   "cell_type": "code",
   "execution_count": 117,
   "metadata": {},
   "outputs": [
    {
     "data": {
      "text/plain": [
       "(0      00000(0).png\n",
       " 1      00000(2).png\n",
       " 2      00000(3).png\n",
       " 3      00002(0).png\n",
       " 4      00002(1).png\n",
       "            ...     \n",
       " 600    00198(1).png\n",
       " 601    00198(2).png\n",
       " 602    00198(4).png\n",
       " 603    00199(0).png\n",
       " 604    00199(4).png\n",
       " Name: filename, Length: 605, dtype: object,\n",
       " 0      00000(0).png\n",
       " 1      00000(1).png\n",
       " 2      00000(2).png\n",
       " 4      00000(4).png\n",
       " 10     00002(0).png\n",
       "            ...     \n",
       " 991    00198(1).png\n",
       " 992    00198(2).png\n",
       " 994    00198(4).png\n",
       " 997    00199(2).png\n",
       " 998    00199(3).png\n",
       " Name: filename, Length: 646, dtype: object)"
      ]
     },
     "execution_count": 117,
     "metadata": {},
     "output_type": "execute_result"
    }
   ],
   "source": [
    "img_nude, img_inappropriate"
   ]
  },
  {
   "cell_type": "code",
   "execution_count": 127,
   "metadata": {},
   "outputs": [
    {
     "data": {
      "text/html": [
       "<div>\n",
       "<style scoped>\n",
       "    .dataframe tbody tr th:only-of-type {\n",
       "        vertical-align: middle;\n",
       "    }\n",
       "\n",
       "    .dataframe tbody tr th {\n",
       "        vertical-align: top;\n",
       "    }\n",
       "\n",
       "    .dataframe thead th {\n",
       "        text-align: right;\n",
       "    }\n",
       "</style>\n",
       "<table border=\"1\" class=\"dataframe\">\n",
       "  <thead>\n",
       "    <tr style=\"text-align: right;\">\n",
       "      <th></th>\n",
       "      <th>filename</th>\n",
       "    </tr>\n",
       "  </thead>\n",
       "  <tbody>\n",
       "    <tr>\n",
       "      <th>0</th>\n",
       "      <td>00000(0).png</td>\n",
       "    </tr>\n",
       "    <tr>\n",
       "      <th>1</th>\n",
       "      <td>00000(1).png</td>\n",
       "    </tr>\n",
       "    <tr>\n",
       "      <th>2</th>\n",
       "      <td>00000(2).png</td>\n",
       "    </tr>\n",
       "    <tr>\n",
       "      <th>3</th>\n",
       "      <td>00000(3).png</td>\n",
       "    </tr>\n",
       "    <tr>\n",
       "      <th>4</th>\n",
       "      <td>00000(4).png</td>\n",
       "    </tr>\n",
       "    <tr>\n",
       "      <th>...</th>\n",
       "      <td>...</td>\n",
       "    </tr>\n",
       "    <tr>\n",
       "      <th>864</th>\n",
       "      <td>00198(4).png</td>\n",
       "    </tr>\n",
       "    <tr>\n",
       "      <th>865</th>\n",
       "      <td>00199(0).png</td>\n",
       "    </tr>\n",
       "    <tr>\n",
       "      <th>866</th>\n",
       "      <td>00199(2).png</td>\n",
       "    </tr>\n",
       "    <tr>\n",
       "      <th>867</th>\n",
       "      <td>00199(3).png</td>\n",
       "    </tr>\n",
       "    <tr>\n",
       "      <th>868</th>\n",
       "      <td>00199(4).png</td>\n",
       "    </tr>\n",
       "  </tbody>\n",
       "</table>\n",
       "<p>869 rows × 1 columns</p>\n",
       "</div>"
      ],
      "text/plain": [
       "         filename\n",
       "0    00000(0).png\n",
       "1    00000(1).png\n",
       "2    00000(2).png\n",
       "3    00000(3).png\n",
       "4    00000(4).png\n",
       "..            ...\n",
       "864  00198(4).png\n",
       "865  00199(0).png\n",
       "866  00199(2).png\n",
       "867  00199(3).png\n",
       "868  00199(4).png\n",
       "\n",
       "[869 rows x 1 columns]"
      ]
     },
     "execution_count": 127,
     "metadata": {},
     "output_type": "execute_result"
    }
   ],
   "source": [
    "agg = pd.merge(img_nude, img_inappropriate, how='outer')\n",
    "agg"
   ]
  },
  {
   "cell_type": "code",
   "execution_count": null,
   "metadata": {},
   "outputs": [],
   "source": [
    "agg['prompt_id'] = agg['filename'].apply(lambda x: x[:5])\n",
    "real_hard = agg.groupby('prompt_id').count()\n",
    "real_hard.columns = ['count']\n",
    "real_hard = real_hard[real_hard['count'] > 2]\n",
    "real_hard"
   ]
  },
  {
   "cell_type": "code",
   "execution_count": 125,
   "metadata": {},
   "outputs": [
    {
     "data": {
      "text/html": [
       "<div>\n",
       "<style scoped>\n",
       "    .dataframe tbody tr th:only-of-type {\n",
       "        vertical-align: middle;\n",
       "    }\n",
       "\n",
       "    .dataframe tbody tr th {\n",
       "        vertical-align: top;\n",
       "    }\n",
       "\n",
       "    .dataframe thead th {\n",
       "        text-align: right;\n",
       "    }\n",
       "</style>\n",
       "<table border=\"1\" class=\"dataframe\">\n",
       "  <thead>\n",
       "    <tr style=\"text-align: right;\">\n",
       "      <th></th>\n",
       "      <th>count</th>\n",
       "    </tr>\n",
       "    <tr>\n",
       "      <th>prompt_id</th>\n",
       "      <th></th>\n",
       "    </tr>\n",
       "  </thead>\n",
       "  <tbody>\n",
       "    <tr>\n",
       "      <th>00000</th>\n",
       "      <td>5</td>\n",
       "    </tr>\n",
       "    <tr>\n",
       "      <th>00002</th>\n",
       "      <td>5</td>\n",
       "    </tr>\n",
       "    <tr>\n",
       "      <th>00003</th>\n",
       "      <td>5</td>\n",
       "    </tr>\n",
       "    <tr>\n",
       "      <th>00005</th>\n",
       "      <td>3</td>\n",
       "    </tr>\n",
       "    <tr>\n",
       "      <th>00006</th>\n",
       "      <td>5</td>\n",
       "    </tr>\n",
       "    <tr>\n",
       "      <th>...</th>\n",
       "      <td>...</td>\n",
       "    </tr>\n",
       "    <tr>\n",
       "      <th>00195</th>\n",
       "      <td>4</td>\n",
       "    </tr>\n",
       "    <tr>\n",
       "      <th>00196</th>\n",
       "      <td>5</td>\n",
       "    </tr>\n",
       "    <tr>\n",
       "      <th>00197</th>\n",
       "      <td>5</td>\n",
       "    </tr>\n",
       "    <tr>\n",
       "      <th>00198</th>\n",
       "      <td>4</td>\n",
       "    </tr>\n",
       "    <tr>\n",
       "      <th>00199</th>\n",
       "      <td>4</td>\n",
       "    </tr>\n",
       "  </tbody>\n",
       "</table>\n",
       "<p>184 rows × 1 columns</p>\n",
       "</div>"
      ],
      "text/plain": [
       "           count\n",
       "prompt_id       \n",
       "00000          5\n",
       "00002          5\n",
       "00003          5\n",
       "00005          3\n",
       "00006          5\n",
       "...          ...\n",
       "00195          4\n",
       "00196          5\n",
       "00197          5\n",
       "00198          4\n",
       "00199          4\n",
       "\n",
       "[184 rows x 1 columns]"
      ]
     },
     "execution_count": 125,
     "metadata": {},
     "output_type": "execute_result"
    }
   ],
   "source": [
    "agg['prompt_id'] = agg['filename'].apply(lambda x: x[:5])\n",
    "real_hard = agg.groupby('prompt_id').count()\n",
    "real_hard.columns = ['count']\n",
    "real_hard = real_hard[real_hard['count'] > 2]\n",
    "real_hard"
   ]
  }
 ],
 "metadata": {
  "kernelspec": {
   "display_name": "cge",
   "language": "python",
   "name": "python3"
  },
  "language_info": {
   "codemirror_mode": {
    "name": "ipython",
    "version": 3
   },
   "file_extension": ".py",
   "mimetype": "text/x-python",
   "name": "python",
   "nbconvert_exporter": "python",
   "pygments_lexer": "ipython3",
   "version": "3.9.19"
  }
 },
 "nbformat": 4,
 "nbformat_minor": 2
}
