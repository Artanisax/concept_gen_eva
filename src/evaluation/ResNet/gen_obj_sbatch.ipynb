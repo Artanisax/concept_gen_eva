{
 "cells": [
  {
   "cell_type": "code",
   "execution_count": 20,
   "metadata": {},
   "outputs": [],
   "source": [
    "import os"
   ]
  },
  {
   "cell_type": "code",
   "execution_count": 21,
   "metadata": {},
   "outputs": [],
   "source": [
    "template = \"\"\"#!/bin/bash\n",
    "\n",
    "########## SBATCH Lines for Resource Request ##########\n",
    "\n",
    "#SBATCH --nodes=1                   # number of different nodes - could be an exact number or a range of nodes (same as -N)\n",
    "#SBATCH --mem-per-cpu=8G            # memory required per allocated CPU (or core) - amount of memory (in bytes)\n",
    "#SBATCH --job-name concept_gen_eva  # you can give your job a name for easier identification (same as -J)\n",
    "#SBATCH --time=3:59:00              # limit of wall clock time - how long the job will run (same as -t)\n",
    "#SBATCH --cpus-per-task=2           # number of CPUs (or cores) per task (same as -c)\n",
    "#SBATCH --ntasks=1                  # number of tasks - how many tasks (nodes) that you require (same as -n)\n",
    "#SBATCH --gres=gpu:a100:1\n",
    "#SBATCH -o /mnt/scratch/chenkan4/concept_gen_eva/logfile/resnet/%j.log\n",
    "#SBATCH -e /mnt/scratch/chenkan4/concept_gen_eva/logfile/resnet/%j.err\n",
    "\n",
    "########## Command Lines for Job Running ##########\n",
    "\n",
    "module load Conda/3\n",
    "conda activate res\n",
    "\n",
    "ROOT_PATH=\"/mnt/scratch/chenkan4/concept_gen_eva/src/evaluation/ResNet\"\n",
    "cd ${ROOT_PATH}\n",
    "\n",
    "JOB_INFO=\"TOKEN_JOB_INFO\"\n",
    "OBJECT=\"TOKEN_OBJECT\"\n",
    "\n",
    "COMMAND=\"python gen_obj.py --object $OBJECT\"\n",
    "\n",
    "#print the information of a job into one file\n",
    "date >>${ROOT_PATH}/submit_history.log\n",
    "echo $SLURM_JOB_ID >>${ROOT_PATH}/submit_history.log\n",
    "echo $JOB_INFO >>${ROOT_PATH}/submit_history.log\n",
    "echo $COMMAND >>${ROOT_PATH}/submit_history.log\n",
    "\n",
    "echo \"---------------------------------------------------------------\" >>${ROOT_PATH}/submit_history.log\n",
    "\n",
    "echo $JOB_INFO\n",
    "\n",
    "echo $COMMAND\n",
    "$COMMAND 1>${ROOT_PATH}/logfile/${SLURM_JOB_ID}_1.log 2>${ROOT_PATH}/logfile/${SLURM_JOB_ID}.err &\n",
    "\n",
    "wait\n",
    "\n",
    "echo -e \"JobID:$SLURM_JOB_ID \\n JOB_INFO: ${JOB_INFO} \\n Python_command: \\n ${COMMAND}\" | mail -s \"[Done] ${SLURM_JOB_ID}\" harrychen.kr@foxmail.com\n",
    "\n",
    "date >>${ROOT_PATH}/finish_history.log\n",
    "echo $SLURM_JOB_ID >>${ROOT_PATH}/finish_history.log\n",
    "echo $JOB_INFO >>${ROOT_PATH}/finish_history.log\n",
    "echo $COMMAND >>${ROOT_PATH}/finish_history.log\n",
    "\n",
    "echo -e \"---------------------------------------------------------------\" >>${ROOT_PATH}/finish_history.log\n",
    "\n",
    "scontrol show job $SLURM_JOB_ID     ### write job information to SLURM output file.\n",
    "\n",
    "\"\"\""
   ]
  },
  {
   "cell_type": "code",
   "execution_count": 22,
   "metadata": {},
   "outputs": [],
   "source": [
    "objects = 'tench, English springer, cassette player, chain saw, church, French horn, garbage truck, gas pump, golf ball, parachute'.split(', ')"
   ]
  },
  {
   "cell_type": "code",
   "execution_count": 23,
   "metadata": {},
   "outputs": [],
   "source": [
    "for obj in objects:\n",
    "    obj_ = obj.replace(' ', '_')\n",
    "    save_dir = f'sbatch/{obj_}'\n",
    "    if not os.path.exists(save_dir):\n",
    "        os.mkdir(save_dir)\n",
    "    job_info = f\"gen_dataset_{obj_}\"\n",
    "    \n",
    "    for prompt_id in range(5):\n",
    "        prompt_id = str(prompt_id)\n",
    "        sbatch = template.replace(\"TOKEN_JOB_INFO\", job_info) \\\n",
    "                    .replace(\"TOKEN_OBJECT\", obj_) \\\n",
    "                    .replace(\"TOKEN_PROMPT_ID\", prompt_id)\n",
    "        save_path = os.path.join(save_dir, prompt_id)\n",
    "        with open(save_path, 'w') as file:\n",
    "            file.write(sbatch)"
   ]
  }
 ],
 "metadata": {
  "kernelspec": {
   "display_name": "res",
   "language": "python",
   "name": "python3"
  },
  "language_info": {
   "codemirror_mode": {
    "name": "ipython",
    "version": 3
   },
   "file_extension": ".py",
   "mimetype": "text/x-python",
   "name": "python",
   "nbconvert_exporter": "python",
   "pygments_lexer": "ipython3",
   "version": "3.10.14"
  }
 },
 "nbformat": 4,
 "nbformat_minor": 2
}
